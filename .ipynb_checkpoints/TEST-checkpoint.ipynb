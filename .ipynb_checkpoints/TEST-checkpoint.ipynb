{
 "cells": [
  {
   "cell_type": "code",
   "execution_count": 1,
   "id": "ce508ff1",
   "metadata": {},
   "outputs": [],
   "source": [
    "import os, sys, json, yaml\n",
    "import torch\n",
    "import seaborn as sn\n",
    "\n",
    "\n",
    "import torchvision\n",
    "\n",
    "from omegaconf import OmegaConf\n",
    "from logger.logger import Logger\n",
    "from trainer.trainer import Trainer\n",
    "from utils.util import *\n",
    "from utils.sam import SAM\n",
    "\n",
    "from model.modelloader import load_checkpoint\n",
    "from predict_n_visualizer.predict_n_visualizer import PredictAndVisualizer\n",
    "\n",
    "\n",
    "cwd = os.getcwd()\n",
    "\n",
    "# Load config\n",
    "config_file = 'config/config.yml'\n",
    "all_config = OmegaConf.load((os.path.join(cwd, config_file)))['config']\n",
    "seeding(all_config)"
   ]
  },
  {
   "cell_type": "markdown",
   "id": "c5ddffd6",
   "metadata": {},
   "source": [
    "# Predict"
   ]
  },
  {
   "cell_type": "code",
   "execution_count": 2,
   "id": "5bb42ac3",
   "metadata": {
    "scrolled": false
   },
   "outputs": [
    {
     "name": "stdout",
     "output_type": "stream",
     "text": [
      "----- LOADING PRETRAINED CHECKPOINTS -----\n",
      "1 :     date_23_10_2021_01.32.59\n",
      "2 :     date_24_10_2021_08.02.25\n",
      "3 :     date_27_10_2021_08.43.59\n",
      "4 :     pvt_v2_b0_date_27_10_2021_13.12.57\n",
      "5 :     pvt_v2_b2_li_date_28_10_2021_07.23.07\n",
      "6 :     pvt_v2_b2_li_date_28_10_2021_18.51.52\n",
      "7 :     pvt_v2_b2_li_date_30_10_2021_02.52.45\n",
      "8 :     pvt_v2_b2_li_date_30_10_2021_18.41.15\n",
      "Choose one of these checkpoints above: pvt_v2_b0_date_27_10_2021_13.12.57\n",
      "Checkpoint dist contains:  dict_keys(['epoch', 'state_dict', 'optimizer', 'scheduler', 'loss'])\n"
     ]
    }
   ],
   "source": [
    "Model = PredictAndVisualizer(all_config, 'model_PVT_V2')"
   ]
  },
  {
   "cell_type": "code",
   "execution_count": 3,
   "id": "0bf2b30d",
   "metadata": {},
   "outputs": [
    {
     "name": "stdout",
     "output_type": "stream",
     "text": [
      "Collecting data from : C:/Users/ASUS/COVID_19/data/test_split.txt\n",
      "Data collected! C:/Users/ASUS/COVID_19/data/test_split.txt\n",
      "------------------------------\n",
      "OVERALL Accuracy:    0.8854415274463007\n",
      "OVERALL Sensivity:   [0.8666667  0.86       0.90654206]\n",
      "OVERALL PosPredValue:[0.8272727  0.83495146 0.94174755]\n",
      "------------------------------\n"
     ]
    }
   ],
   "source": [
    "confusion_matrix = Model.predict()"
   ]
  },
  {
   "cell_type": "code",
   "execution_count": 6,
   "id": "97395e65",
   "metadata": {},
   "outputs": [
    {
     "data": {
      "text/plain": [
       "tensor([[ 91.,   5.,   9.],\n",
       "        [ 11.,  86.,   3.],\n",
       "        [  8.,  12., 194.]])"
      ]
     },
     "execution_count": 6,
     "metadata": {},
     "output_type": "execute_result"
    }
   ],
   "source": [
    "Model.plot_confusion_matrix(confusion_matrix)"
   ]
  },
  {
   "cell_type": "markdown",
   "id": "d58346cb",
   "metadata": {},
   "source": [
    "# Visualize"
   ]
  },
  {
   "cell_type": "code",
   "execution_count": null,
   "id": "ba8a60ed",
   "metadata": {
    "scrolled": false
   },
   "outputs": [],
   "source": [
    "Model.visualize()"
   ]
  }
 ],
 "metadata": {
  "kernelspec": {
   "display_name": "Python 3 (ipykernel)",
   "language": "python",
   "name": "python3"
  },
  "language_info": {
   "codemirror_mode": {
    "name": "ipython",
    "version": 3
   },
   "file_extension": ".py",
   "mimetype": "text/x-python",
   "name": "python",
   "nbconvert_exporter": "python",
   "pygments_lexer": "ipython3",
   "version": "3.7.10"
  }
 },
 "nbformat": 4,
 "nbformat_minor": 5
}
