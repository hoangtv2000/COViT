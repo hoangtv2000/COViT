{
 "cells": [
  {
   "cell_type": "code",
   "execution_count": 1,
   "id": "feba0f82",
   "metadata": {},
   "outputs": [],
   "source": [
    "import os, sys, json\n",
    "import shutil\n",
    "import datetime\n",
    "import torch\n",
    "from torch.optim import AdamW, SGD\n",
    "from torch.optim.lr_scheduler import ReduceLROnPlateau\n",
    "\n",
    "from omegaconf import OmegaConf\n",
    "from logger.logger import Logger\n",
    "from trainer.trainer import Trainer\n",
    "from utils.util import *\n",
    "\n",
    "from model.modelloader import COVID_PVTv2, COVID_ViT, load_checkpoint\n",
    "from dataloader.dataloader import present_dataset\n",
    "from trainer.trainer import Trainer\n",
    "\n",
    "from torch.utils.tensorboard import SummaryWriter\n",
    "\n",
    "\n",
    "cwd = os.getcwd()\n",
    "\n",
    "# Load config\n",
    "config_file = 'config/trainer_config.yml'\n",
    "train_config = OmegaConf.load((os.path.join(cwd, config_file)))['trainer']\n",
    "seeding(train_config)"
   ]
  },
  {
   "cell_type": "code",
   "execution_count": 2,
   "id": "fc6b2227",
   "metadata": {},
   "outputs": [
    {
     "name": "stdout",
     "output_type": "stream",
     "text": [
      "Collecting data from : C:/Users/ASUS/COVID_19/data/train_split.txt\n",
      "Collecting data from : C:/Users/ASUS/COVID_19/data/val_split.txt\n",
      "Collecting data from : C:/Users/ASUS/COVID_19/data/test_split.txt\n",
      "Name of the dataset: COVIDXR_dataset\n",
      "Collected from the description of these github: https://github.com/lindawangg/COVID-Net\n",
      "--------------------------------------------------\n",
      "Labels and quantities of samples in train dataset: \n",
      "  normal       9992\n",
      "pneumonia    7205\n",
      "covid-19     2401\n",
      "Name: labels, dtype: int64\n",
      "For each epoch we randomly get 2401 samples for each class in train dataset\n",
      "--------------------------------------------------\n",
      "Labels and quantities of samples in val dataset: \n",
      "  normal       100\n",
      "pneumonia    100\n",
      "covid-19      93\n",
      "Name: labels, dtype: int64\n",
      "--------------------------------------------------\n",
      "Labels and quantities of samples in test dataset: \n",
      "  covid-19     198\n",
      "pneumonia    105\n",
      "normal       100\n",
      "Name: labels, dtype: int64\n",
      "--------------------------------------------------\n"
     ]
    }
   ],
   "source": [
    "present_dataset(train_config)"
   ]
  },
  {
   "cell_type": "markdown",
   "id": "b0e6228c",
   "metadata": {},
   "source": [
    "# Ultility functions"
   ]
  },
  {
   "cell_type": "code",
   "execution_count": 3,
   "id": "5115077b",
   "metadata": {},
   "outputs": [],
   "source": [
    "def get_model(name):\n",
    "     if  name == 'ViT':\n",
    "        return COVID_ViT()\n",
    "     if  name == 'PVT_V2':\n",
    "        return COVID_PVTv2()"
   ]
  },
  {
   "cell_type": "code",
   "execution_count": 4,
   "id": "04bb01bc",
   "metadata": {},
   "outputs": [],
   "source": [
    "def select_scheduler_optimizer(model, config):\n",
    "    opt = config['optimizer']['type']\n",
    "    lr = config['optimizer']['lr']\n",
    "    dec = config['optimizer']['weight_decay']\n",
    "    optimizer = None\n",
    "    if (opt == 'AdamW'):\n",
    "        print(\"Use optimizer Adam with lr: \", lr)\n",
    "        optimizer = AdamW(model.parameters(), lr=lr, weight_decay=dec)\n",
    "    elif (opt == 'SGD'):\n",
    "        print(\"Use optimizer SGD with lr: \", lr)\n",
    "        optimizer = SGD(model.parameters(), lr=lr, momentum=0.9)\n",
    "        \n",
    "    scheduler = ReduceLROnPlateau(optimizer, factor=config['scheduler']['scheduler_factor'],\n",
    "                                      patience=config['scheduler']['scheduler_patience'],\n",
    "                                      min_lr=config['scheduler']['scheduler_min_lr'],\n",
    "                                      verbose=config['scheduler']['scheduler_verbose'])\n",
    "    return optimizer, scheduler"
   ]
  },
  {
   "cell_type": "markdown",
   "id": "322890d4",
   "metadata": {},
   "source": [
    "# Train process"
   ]
  },
  {
   "cell_type": "code",
   "execution_count": 5,
   "id": "4003a185",
   "metadata": {},
   "outputs": [],
   "source": [
    "def engine(config):\n",
    "    now = datetime.datetime.now()\n",
    "    dt_string = now.strftime(\"%d_%m_%Y_%H.%M.%S\")\n",
    "    model_name = input(\"Choose model in your configuration: {model_ViT}, {model_PVT_V2} ? : \")\n",
    "    assert model_name in ['model_ViT', 'model_PVT_V2'], \"You must decleare the model as in description!\"\n",
    "    print('-'*50)\n",
    "    # Writer\n",
    "    writer = SummaryWriter('./runs/' + f'model_{config[model_name].name}/date_{dt_string}')\n",
    "\n",
    "    # Device\n",
    "    device = torch.device(\"cuda:0\" if (torch.cuda.is_available() and config.cuda) else \"cpu\")\n",
    "    \n",
    "    # Model\n",
    "    model = get_model(config[model_name].name)\n",
    "    \n",
    "    #Optimizer\n",
    "    optimizer, scheduler = select_scheduler_optimizer(model, config[model_name])\n",
    "    \n",
    "    # Remaining epochs\n",
    "    start_epoch = 0\n",
    "    \n",
    "    # Load model from checkpoint if config load = True\n",
    "    if config.load:\n",
    "        print('----- LOADING CHECKPOINTS -----')\n",
    "        get_checkpoints(config[model_name].name)\n",
    "        checkpoint_name = input(\"Choose one of these checkpoints above: \")\n",
    "        cpkt_fol_name = os.path.join(config.cwd, f'checkpoints/model_{config[model_name].name}/{checkpoint_name}')   \n",
    "        checkpoint_dirmodel = f'{cpkt_fol_name}/model_best_checkpoint.pth'\n",
    "        model, optimizer, scheduler, start_epoch = load_checkpoint(checkpoint_dirmodel, model, optimizer, scheduler) \n",
    "        optimizer_to_cuda(optimizer, device)\n",
    "        \n",
    "        print(f'Optim: {optimizer}')\n",
    "        print(f'Scheduler: {scheduler._last_lr}')\n",
    "        print(f'Start epoch: {start_epoch}')\n",
    "    \n",
    "    # Add to GPU (if able)\n",
    "    model = torch.nn.DataParallel(model).to(device)\n",
    "    \n",
    "    # Create new checkpoint\n",
    "    cpkt_fol_name = os.path.join(config.cwd, f'checkpoints/model_{config[model_name].name}/date_{dt_string}')\n",
    "    \n",
    "    # Logger\n",
    "    logname = str('LOG_' + config[model_name].name)\n",
    "    log = Logger(path=cpkt_fol_name, name=logname).get_logger()\n",
    "    log.info(f\"Checkpoint Folder {cpkt_fol_name} \")\n",
    "    \n",
    "    log.info(f\"date and time = {dt_string}\")\n",
    "    log.info(f'pyTorch VERSION:{torch.__version__}', )\n",
    "    log.info(f'CUDA VERSION:{torch.version.cuda}')\n",
    "    log.info(f'CUDNN VERSION:{torch.backends.cudnn.version()}')\n",
    "    log.info(f'Number CUDA Devices: {torch.cuda.device_count()}') \n",
    "    log.info(f'device: {device}')\n",
    "    \n",
    "    \n",
    "    # Trainer\n",
    "    trainer = Trainer(config=config, model=model, optimizer=optimizer, \n",
    "                      logger=log,\n",
    "                      start_epoch=start_epoch,\n",
    "                      lr_scheduler=scheduler,             \n",
    "                      checkpoint_dir=cpkt_fol_name)\n",
    "    trainer.train()"
   ]
  },
  {
   "cell_type": "code",
   "execution_count": 6,
   "id": "4f06e1f7",
   "metadata": {
    "scrolled": true
   },
   "outputs": [
    {
     "name": "stdout",
     "output_type": "stream",
     "text": [
      "Choose model in your configuration: {model_ViT}, {model_PVT_V2} ? : model_PVT_V2\n",
      "--------------------------------------------------\n",
      "Use optimizer Adam with lr:  0.0004\n",
      "----- LOADING CHECKPOINTS -----\n",
      "1 :     date_04_10_2021_18.31.26\n",
      "2 :     date_05_10_2021_00.01.43\n",
      "3 :     date_05_10_2021_12.56.09\n",
      "4 :     date_05_10_2021_12.58.04\n",
      "5 :     date_05_10_2021_13.03.14\n",
      "6 :     date_05_10_2021_13.05.25\n",
      "7 :     date_05_10_2021_13.14.19\n",
      "8 :     date_05_10_2021_13.16.22\n",
      "9 :     date_05_10_2021_13.17.29\n",
      "Choose one of these checkpoints above: date_05_10_2021_00.01.43\n",
      "Checkpoint dist contains:  dict_keys(['epoch', 'state_dict', 'optimizer', 'scheduler', 'loss'])\n",
      "Optim: AdamW (\n",
      "Parameter Group 0\n",
      "    amsgrad: False\n",
      "    betas: (0.9, 0.999)\n",
      "    eps: 1e-08\n",
      "    lr: 0.0004\n",
      "    weight_decay: 0.05\n",
      ")\n",
      "Scheduler: [0.0004]\n",
      "Start epoch: 21\n",
      "2021-10-05-13.24.03 | INFO | LOG_PVT_V2 | Checkpoint Folder C:/Users/ASUS/COVID_19\\checkpoints/model_PVT_V2/date_05_10_2021_13.23.09 \n",
      "2021-10-05-13.24.03 | INFO | LOG_PVT_V2 | date and time = 05_10_2021_13.23.09\n",
      "2021-10-05-13.24.03 | INFO | LOG_PVT_V2 | pyTorch VERSION:1.8.0+cu101\n",
      "2021-10-05-13.24.03 | INFO | LOG_PVT_V2 | CUDA VERSION:10.1\n",
      "2021-10-05-13.24.03 | INFO | LOG_PVT_V2 | CUDNN VERSION:7604\n",
      "2021-10-05-13.24.03 | INFO | LOG_PVT_V2 | Number CUDA Devices: 1\n",
      "2021-10-05-13.24.03 | INFO | LOG_PVT_V2 | device: cuda:0\n",
      "Collecting data from : C:/Users/ASUS/COVID_19/data/val_split.txt\n",
      "2021-10-05-13.24.03 | INFO | LOG_PVT_V2 | !!!!!!!!!!    VALIDATION   !!!!!!!!!!\n",
      "2021-10-05-13.24.17 | INFO | LOG_PVT_V2 | validation summary  Epoch: [21/50]\t loss  1.1216\tacc  0.3345\t\n",
      " sensitivity: [0.97       0.         0.01075269] ,positive_predictive_value: [0.33680555 0.         0.2       ]\n",
      "Validation loss decreased (inf --> 1.121581).  Saving model ...\n",
      "C:/Users/ASUS/COVID_19\\checkpoints/model_PVT_V2/date_05_10_2021_13.23.09\\model_best_checkpoint.pth\n"
     ]
    },
    {
     "ename": "NameError",
     "evalue": "name 'train_loss' is not defined",
     "output_type": "error",
     "traceback": [
      "\u001b[1;31m---------------------------------------------------------------------------\u001b[0m",
      "\u001b[1;31mNameError\u001b[0m                                 Traceback (most recent call last)",
      "\u001b[1;32m~\\AppData\\Local\\Temp/ipykernel_16128/2941065135.py\u001b[0m in \u001b[0;36m<module>\u001b[1;34m\u001b[0m\n\u001b[1;32m----> 1\u001b[1;33m \u001b[0mengine\u001b[0m\u001b[1;33m(\u001b[0m\u001b[0mtrain_config\u001b[0m\u001b[1;33m)\u001b[0m\u001b[1;33m\u001b[0m\u001b[1;33m\u001b[0m\u001b[0m\n\u001b[0m",
      "\u001b[1;32m~\\AppData\\Local\\Temp/ipykernel_16128/3946301347.py\u001b[0m in \u001b[0;36mengine\u001b[1;34m(config)\u001b[0m\n\u001b[0;32m     59\u001b[0m                       \u001b[0mlr_scheduler\u001b[0m\u001b[1;33m=\u001b[0m\u001b[0mscheduler\u001b[0m\u001b[1;33m,\u001b[0m\u001b[1;33m\u001b[0m\u001b[1;33m\u001b[0m\u001b[0m\n\u001b[0;32m     60\u001b[0m                       checkpoint_dir=cpkt_fol_name)\n\u001b[1;32m---> 61\u001b[1;33m     \u001b[0mtrainer\u001b[0m\u001b[1;33m.\u001b[0m\u001b[0mtrain\u001b[0m\u001b[1;33m(\u001b[0m\u001b[1;33m)\u001b[0m\u001b[1;33m\u001b[0m\u001b[1;33m\u001b[0m\u001b[0m\n\u001b[0m",
      "\u001b[1;32m~\\COVID_19\\trainer\\trainer.py\u001b[0m in \u001b[0;36mtrain\u001b[1;34m(self)\u001b[0m\n\u001b[0;32m    187\u001b[0m             \u001b[0mself\u001b[0m\u001b[1;33m.\u001b[0m\u001b[0mlr_scheduler\u001b[0m\u001b[1;33m.\u001b[0m\u001b[0mstep\u001b[0m\u001b[1;33m(\u001b[0m\u001b[0mval_loss\u001b[0m\u001b[1;33m)\u001b[0m\u001b[1;33m\u001b[0m\u001b[1;33m\u001b[0m\u001b[0m\n\u001b[0;32m    188\u001b[0m \u001b[1;33m\u001b[0m\u001b[0m\n\u001b[1;32m--> 189\u001b[1;33m             \u001b[0mhistory\u001b[0m\u001b[1;33m[\u001b[0m\u001b[1;34m'train_loss'\u001b[0m\u001b[1;33m]\u001b[0m\u001b[1;33m.\u001b[0m\u001b[0mappend\u001b[0m\u001b[1;33m(\u001b[0m\u001b[0mtrain_loss\u001b[0m\u001b[1;33m)\u001b[0m\u001b[1;33m\u001b[0m\u001b[1;33m\u001b[0m\u001b[0m\n\u001b[0m\u001b[0;32m    190\u001b[0m             \u001b[0mhistory\u001b[0m\u001b[1;33m[\u001b[0m\u001b[1;34m'train_acc'\u001b[0m\u001b[1;33m]\u001b[0m\u001b[1;33m.\u001b[0m\u001b[0mappend\u001b[0m\u001b[1;33m(\u001b[0m\u001b[0mtrain_acc\u001b[0m\u001b[1;33m)\u001b[0m\u001b[1;33m\u001b[0m\u001b[1;33m\u001b[0m\u001b[0m\n\u001b[0;32m    191\u001b[0m             \u001b[0mhistory\u001b[0m\u001b[1;33m[\u001b[0m\u001b[1;34m'val_loss'\u001b[0m\u001b[1;33m]\u001b[0m\u001b[1;33m.\u001b[0m\u001b[0mappend\u001b[0m\u001b[1;33m(\u001b[0m\u001b[0mval_loss\u001b[0m\u001b[1;33m)\u001b[0m\u001b[1;33m\u001b[0m\u001b[1;33m\u001b[0m\u001b[0m\n",
      "\u001b[1;31mNameError\u001b[0m: name 'train_loss' is not defined"
     ]
    }
   ],
   "source": [
    "engine(train_config)"
   ]
  },
  {
   "cell_type": "code",
   "execution_count": null,
   "id": "ba70d520",
   "metadata": {},
   "outputs": [],
   "source": [
    "torch.cuda.empty_cache()"
   ]
  }
 ],
 "metadata": {
  "kernelspec": {
   "display_name": "Python 3 (ipykernel)",
   "language": "python",
   "name": "python3"
  },
  "language_info": {
   "codemirror_mode": {
    "name": "ipython",
    "version": 3
   },
   "file_extension": ".py",
   "mimetype": "text/x-python",
   "name": "python",
   "nbconvert_exporter": "python",
   "pygments_lexer": "ipython3",
   "version": "3.7.10"
  }
 },
 "nbformat": 4,
 "nbformat_minor": 5
}
